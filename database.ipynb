{
 "cells": [
  {
   "cell_type": "code",
   "execution_count": 2,
   "metadata": {},
   "outputs": [],
   "source": [
    "from sqlalchemy import create_engine\n",
    "from sqlalchemy.ext.declarative import declarative_base\n",
    "from sqlalchemy import Column, Integer, String, Date, ForeignKey, BigInteger\n",
    "from sqlalchemy_utils import database_exists, create_database\n",
    "from config import user, password, host, database\n",
    "import pandas as pd\n",
    "import numpy as np"
   ]
  },
  {
   "cell_type": "code",
   "execution_count": 3,
   "metadata": {},
   "outputs": [
    {
     "name": "stderr",
     "output_type": "stream",
     "text": [
      "C:\\Users\\micha\\AppData\\Local\\Temp/ipykernel_26140/3863185874.py:3: MovedIn20Warning: The ``declarative_base()`` function is now available as sqlalchemy.orm.declarative_base(). (deprecated since: 2.0) (Background on SQLAlchemy 2.0 at: https://sqlalche.me/e/b8d9)\n",
      "  Base = declarative_base()\n"
     ]
    }
   ],
   "source": [
    "db_string = f'mysql://{user}:{password}@{host}:3306/{database}'\n",
    "engine = create_engine(db_string)\n",
    "Base = declarative_base()"
   ]
  },
  {
   "cell_type": "markdown",
   "metadata": {},
   "source": [
    "Database model using SQLAlchemy"
   ]
  },
  {
   "cell_type": "code",
   "execution_count": 4,
   "metadata": {},
   "outputs": [],
   "source": [
    "class Continent(Base):\n",
    "    __tablename__ = 'continents'\n",
    "    id_continent = Column(Integer, primary_key=True)\n",
    "    continent = Column(String(50))\n",
    "\n",
    "class Country(Base):\n",
    "    __tablename__ = 'countries'\n",
    "    id_country = Column(Integer, primary_key=True)\n",
    "    country = Column(String(50))\n",
    "    id_continent = Column(Integer, ForeignKey('continents.id_continent'))\n",
    "\n",
    "class Population(Base):\n",
    "    __tablename__ = 'live_population'\n",
    "    id_data = Column(Integer, primary_key=True)\n",
    "    measurement = Column(BigInteger)\n",
    "    date_measurement = Column(Date)\n",
    "    id_country = Column(Integer, ForeignKey('countries.id_country'))\n",
    "\n",
    "class Year(Base):\n",
    "    __tablename__ = 'years'\n",
    "    id_year = Column(Integer, primary_key=True)\n",
    "    year = Column(Integer)\n",
    "\n",
    "class Age(Base):\n",
    "    __tablename__ = 'ages'\n",
    "    id_age = Column(Integer, primary_key=True)\n",
    "    age = Column(Integer)\n",
    "\n",
    "class Death(Base):\n",
    "    __tablename__ = 'deaths'\n",
    "    id_data = Column(Integer, primary_key=True)\n",
    "    measurement = Column(BigInteger)\n",
    "    sex = Column(String(10))\n",
    "    id_year = Column(Integer, ForeignKey('years.id_year'))\n",
    "    id_country = Column(Integer, ForeignKey('countries.id_country'))\n",
    "    id_age = Column(Integer, ForeignKey('ages.id_age'))\n",
    "\n",
    "class Birth(Base):\n",
    "    __tablename__ = 'births'\n",
    "    id_data = Column(Integer, primary_key=True)\n",
    "    measurement = Column(BigInteger)\n",
    "    id_year = Column(Integer, ForeignKey('years.id_year'))\n",
    "    id_country = Column(Integer, ForeignKey('countries.id_country'))\n",
    "    id_mother_age = Column(Integer, ForeignKey('ages.id_age'))\n",
    "\n",
    "class Marriage(Base):\n",
    "    __tablename__ = 'marriages'\n",
    "    id_data = Column(Integer, primary_key=True)\n",
    "    measurement = Column(BigInteger)\n",
    "    id_year = Column(Integer, ForeignKey('years.id_year'))\n",
    "    id_age = Column(Integer, ForeignKey('ages.id_age'))\n",
    "    id_country = Column(Integer, ForeignKey('countries.id_country'))"
   ]
  },
  {
   "cell_type": "markdown",
   "metadata": {},
   "source": [
    "Connection to the database"
   ]
  },
  {
   "cell_type": "code",
   "execution_count": 5,
   "metadata": {},
   "outputs": [],
   "source": [
    "if not database_exists(engine.url):\n",
    "    create_database(engine.url)\n",
    "else:\n",
    "    # Connect the database if exists.\n",
    "    engine.connect()\n",
    "    Base.metadata.create_all(engine)"
   ]
  },
  {
   "cell_type": "markdown",
   "metadata": {},
   "source": [
    "Load data from CSV into DataFrame\n"
   ]
  },
  {
   "cell_type": "code",
   "execution_count": 6,
   "metadata": {},
   "outputs": [],
   "source": [
    "birth_death_df = pd.read_csv('data-finally/birth_death.csv')\n",
    "married_df = pd.read_csv('data-finally/married.csv')\n",
    "country_to_continent_df = pd.read_csv('data-finally/countryContinent.csv', encoding = 'ISO-8859-1')"
   ]
  },
  {
   "cell_type": "markdown",
   "metadata": {},
   "source": [
    "Add the `kontynent` column to the data in married_df and birth_death_df\n"
   ]
  },
  {
   "cell_type": "code",
   "execution_count": 34,
   "metadata": {},
   "outputs": [],
   "source": [
    "for df in [married_df, birth_death_df]:\n",
    "    df[\"kontynent\"] = [country_to_continent_df[country_to_continent_df[\"country\"] == country][\"continent\"].values[0] if country in country_to_continent_df[\"country\"].unique() else None for country in df[\"kraj\"]]"
   ]
  },
  {
   "cell_type": "markdown",
   "metadata": {},
   "source": [
    "Add data to the continents table\n"
   ]
  },
  {
   "cell_type": "code",
   "execution_count": 35,
   "metadata": {},
   "outputs": [],
   "source": [
    "continents = pd.DataFrame(married_df[\"kontynent\"].unique(), columns=['continent'])\n",
    "continents.index.name = 'id_continent'\n",
    "continents.to_sql('continents', engine, if_exists = \"append\")"
   ]
  },
  {
   "cell_type": "code",
   "execution_count": 66,
   "metadata": {},
   "outputs": [
    {
     "data": {
      "text/html": [
       "<div>\n",
       "<style scoped>\n",
       "    .dataframe tbody tr th:only-of-type {\n",
       "        vertical-align: middle;\n",
       "    }\n",
       "\n",
       "    .dataframe tbody tr th {\n",
       "        vertical-align: top;\n",
       "    }\n",
       "\n",
       "    .dataframe thead th {\n",
       "        text-align: right;\n",
       "    }\n",
       "</style>\n",
       "<table border=\"1\" class=\"dataframe\">\n",
       "  <thead>\n",
       "    <tr style=\"text-align: right;\">\n",
       "      <th></th>\n",
       "      <th>continent</th>\n",
       "    </tr>\n",
       "    <tr>\n",
       "      <th>id_continent</th>\n",
       "      <th></th>\n",
       "    </tr>\n",
       "  </thead>\n",
       "  <tbody>\n",
       "    <tr>\n",
       "      <th>0</th>\n",
       "      <td>Asia</td>\n",
       "    </tr>\n",
       "    <tr>\n",
       "      <th>1</th>\n",
       "      <td>Americas</td>\n",
       "    </tr>\n",
       "    <tr>\n",
       "      <th>2</th>\n",
       "      <td>Africa</td>\n",
       "    </tr>\n",
       "    <tr>\n",
       "      <th>3</th>\n",
       "      <td>Europe</td>\n",
       "    </tr>\n",
       "  </tbody>\n",
       "</table>\n",
       "</div>"
      ],
      "text/plain": [
       "             continent\n",
       "id_continent          \n",
       "0                 Asia\n",
       "1             Americas\n",
       "2               Africa\n",
       "3               Europe"
      ]
     },
     "execution_count": 66,
     "metadata": {},
     "output_type": "execute_result"
    }
   ],
   "source": [
    "continents"
   ]
  },
  {
   "cell_type": "markdown",
   "metadata": {},
   "source": [
    "Add data to the countries table"
   ]
  },
  {
   "cell_type": "code",
   "execution_count": 36,
   "metadata": {},
   "outputs": [],
   "source": [
    "countries = pd.DataFrame(married_df[\"kraj\"].unique(), columns=['country'])\n",
    "countries.index.name = 'id_country'\n",
    "countries[\"id_continent\"] = [continents[continents[\"continent\"] == married_df[married_df[\"kraj\"] == country][\"kontynent\"].values[0]].index.values[0] for country in married_df[\"kraj\"].unique()]\n",
    "countries.to_sql('countries', engine, if_exists = \"append\")"
   ]
  },
  {
   "cell_type": "code",
   "execution_count": 63,
   "metadata": {},
   "outputs": [
    {
     "data": {
      "text/html": [
       "<div>\n",
       "<style scoped>\n",
       "    .dataframe tbody tr th:only-of-type {\n",
       "        vertical-align: middle;\n",
       "    }\n",
       "\n",
       "    .dataframe tbody tr th {\n",
       "        vertical-align: top;\n",
       "    }\n",
       "\n",
       "    .dataframe thead th {\n",
       "        text-align: right;\n",
       "    }\n",
       "</style>\n",
       "<table border=\"1\" class=\"dataframe\">\n",
       "  <thead>\n",
       "    <tr style=\"text-align: right;\">\n",
       "      <th></th>\n",
       "      <th>country</th>\n",
       "      <th>id_continent</th>\n",
       "    </tr>\n",
       "    <tr>\n",
       "      <th>id_country</th>\n",
       "      <th></th>\n",
       "      <th></th>\n",
       "    </tr>\n",
       "  </thead>\n",
       "  <tbody>\n",
       "    <tr>\n",
       "      <th>0</th>\n",
       "      <td>Bangladesh</td>\n",
       "      <td>0</td>\n",
       "    </tr>\n",
       "    <tr>\n",
       "      <th>1</th>\n",
       "      <td>Brazil</td>\n",
       "      <td>1</td>\n",
       "    </tr>\n",
       "    <tr>\n",
       "      <th>2</th>\n",
       "      <td>China</td>\n",
       "      <td>0</td>\n",
       "    </tr>\n",
       "    <tr>\n",
       "      <th>3</th>\n",
       "      <td>Dem. Rep. of the Congo</td>\n",
       "      <td>2</td>\n",
       "    </tr>\n",
       "    <tr>\n",
       "      <th>4</th>\n",
       "      <td>Ethiopia</td>\n",
       "      <td>2</td>\n",
       "    </tr>\n",
       "    <tr>\n",
       "      <th>5</th>\n",
       "      <td>Germany</td>\n",
       "      <td>3</td>\n",
       "    </tr>\n",
       "    <tr>\n",
       "      <th>6</th>\n",
       "      <td>India</td>\n",
       "      <td>0</td>\n",
       "    </tr>\n",
       "    <tr>\n",
       "      <th>7</th>\n",
       "      <td>Indonesia</td>\n",
       "      <td>0</td>\n",
       "    </tr>\n",
       "    <tr>\n",
       "      <th>8</th>\n",
       "      <td>Iran (Islamic Republic of)</td>\n",
       "      <td>0</td>\n",
       "    </tr>\n",
       "    <tr>\n",
       "      <th>9</th>\n",
       "      <td>Japan</td>\n",
       "      <td>0</td>\n",
       "    </tr>\n",
       "    <tr>\n",
       "      <th>10</th>\n",
       "      <td>Mexico</td>\n",
       "      <td>1</td>\n",
       "    </tr>\n",
       "    <tr>\n",
       "      <th>11</th>\n",
       "      <td>Nigeria</td>\n",
       "      <td>2</td>\n",
       "    </tr>\n",
       "    <tr>\n",
       "      <th>12</th>\n",
       "      <td>Pakistan</td>\n",
       "      <td>0</td>\n",
       "    </tr>\n",
       "    <tr>\n",
       "      <th>13</th>\n",
       "      <td>Philippines</td>\n",
       "      <td>0</td>\n",
       "    </tr>\n",
       "    <tr>\n",
       "      <th>14</th>\n",
       "      <td>Russian Federation</td>\n",
       "      <td>3</td>\n",
       "    </tr>\n",
       "    <tr>\n",
       "      <th>15</th>\n",
       "      <td>Viet Nam</td>\n",
       "      <td>0</td>\n",
       "    </tr>\n",
       "    <tr>\n",
       "      <th>16</th>\n",
       "      <td>Thailand</td>\n",
       "      <td>0</td>\n",
       "    </tr>\n",
       "    <tr>\n",
       "      <th>17</th>\n",
       "      <td>Turkey</td>\n",
       "      <td>0</td>\n",
       "    </tr>\n",
       "    <tr>\n",
       "      <th>18</th>\n",
       "      <td>Egypt</td>\n",
       "      <td>2</td>\n",
       "    </tr>\n",
       "    <tr>\n",
       "      <th>19</th>\n",
       "      <td>United States of America</td>\n",
       "      <td>1</td>\n",
       "    </tr>\n",
       "  </tbody>\n",
       "</table>\n",
       "</div>"
      ],
      "text/plain": [
       "                               country  id_continent\n",
       "id_country                                          \n",
       "0                           Bangladesh             0\n",
       "1                               Brazil             1\n",
       "2                                China             0\n",
       "3               Dem. Rep. of the Congo             2\n",
       "4                             Ethiopia             2\n",
       "5                              Germany             3\n",
       "6                                India             0\n",
       "7                            Indonesia             0\n",
       "8           Iran (Islamic Republic of)             0\n",
       "9                                Japan             0\n",
       "10                              Mexico             1\n",
       "11                             Nigeria             2\n",
       "12                            Pakistan             0\n",
       "13                         Philippines             0\n",
       "14                  Russian Federation             3\n",
       "15                            Viet Nam             0\n",
       "16                            Thailand             0\n",
       "17                              Turkey             0\n",
       "18                               Egypt             2\n",
       "19            United States of America             1"
      ]
     },
     "execution_count": 63,
     "metadata": {},
     "output_type": "execute_result"
    }
   ],
   "source": [
    "countries"
   ]
  },
  {
   "cell_type": "markdown",
   "metadata": {},
   "source": [
    "Add data to the years table\n"
   ]
  },
  {
   "cell_type": "code",
   "execution_count": 37,
   "metadata": {},
   "outputs": [],
   "source": [
    "years_birth_death = pd.DataFrame(married_df[\"rok\"].unique(), columns=['year'])\n",
    "years_married = pd.DataFrame(birth_death_df[\"rok\"].unique(), columns=['year'])\n",
    "years = pd.concat([years_birth_death, years_married]).drop_duplicates().reset_index(drop=True)\n",
    "years.index.name = 'id_year'\n",
    "years.to_sql('years', engine, if_exists = \"append\")"
   ]
  },
  {
   "cell_type": "code",
   "execution_count": 23,
   "metadata": {},
   "outputs": [
    {
     "data": {
      "text/html": [
       "<div>\n",
       "<style scoped>\n",
       "    .dataframe tbody tr th:only-of-type {\n",
       "        vertical-align: middle;\n",
       "    }\n",
       "\n",
       "    .dataframe tbody tr th {\n",
       "        vertical-align: top;\n",
       "    }\n",
       "\n",
       "    .dataframe thead th {\n",
       "        text-align: right;\n",
       "    }\n",
       "</style>\n",
       "<table border=\"1\" class=\"dataframe\">\n",
       "  <thead>\n",
       "    <tr style=\"text-align: right;\">\n",
       "      <th></th>\n",
       "      <th>year</th>\n",
       "    </tr>\n",
       "    <tr>\n",
       "      <th>id_year</th>\n",
       "      <th></th>\n",
       "    </tr>\n",
       "  </thead>\n",
       "  <tbody>\n",
       "    <tr>\n",
       "      <th>0</th>\n",
       "      <td>1970</td>\n",
       "    </tr>\n",
       "    <tr>\n",
       "      <th>1</th>\n",
       "      <td>1971</td>\n",
       "    </tr>\n",
       "    <tr>\n",
       "      <th>2</th>\n",
       "      <td>1972</td>\n",
       "    </tr>\n",
       "    <tr>\n",
       "      <th>3</th>\n",
       "      <td>1973</td>\n",
       "    </tr>\n",
       "    <tr>\n",
       "      <th>4</th>\n",
       "      <td>1974</td>\n",
       "    </tr>\n",
       "  </tbody>\n",
       "</table>\n",
       "</div>"
      ],
      "text/plain": [
       "         year\n",
       "id_year      \n",
       "0        1970\n",
       "1        1971\n",
       "2        1972\n",
       "3        1973\n",
       "4        1974"
      ]
     },
     "execution_count": 23,
     "metadata": {},
     "output_type": "execute_result"
    }
   ],
   "source": [
    "years.head()"
   ]
  },
  {
   "cell_type": "markdown",
   "metadata": {},
   "source": [
    "Add data to the ages table\n"
   ]
  },
  {
   "cell_type": "code",
   "execution_count": 38,
   "metadata": {},
   "outputs": [],
   "source": [
    "age_married = pd.DataFrame(married_df[\"wiek\"].unique() , columns=['age']).astype(str)\n",
    "ages_birth_death  = pd.DataFrame(birth_death_df[\"wiek\"].unique() , columns=['age']).astype(str)\n",
    "ages = pd.concat([age_married, ages_birth_death]).drop_duplicates().reset_index(drop=True)\n",
    "ages.index.name = 'id_age'\n",
    "ages.to_sql('ages', engine, if_exists = \"append\")"
   ]
  },
  {
   "cell_type": "code",
   "execution_count": 20,
   "metadata": {},
   "outputs": [
    {
     "data": {
      "text/html": [
       "<div>\n",
       "<style scoped>\n",
       "    .dataframe tbody tr th:only-of-type {\n",
       "        vertical-align: middle;\n",
       "    }\n",
       "\n",
       "    .dataframe tbody tr th {\n",
       "        vertical-align: top;\n",
       "    }\n",
       "\n",
       "    .dataframe thead th {\n",
       "        text-align: right;\n",
       "    }\n",
       "</style>\n",
       "<table border=\"1\" class=\"dataframe\">\n",
       "  <thead>\n",
       "    <tr style=\"text-align: right;\">\n",
       "      <th></th>\n",
       "      <th>age</th>\n",
       "    </tr>\n",
       "    <tr>\n",
       "      <th>id_age</th>\n",
       "      <th></th>\n",
       "    </tr>\n",
       "  </thead>\n",
       "  <tbody>\n",
       "    <tr>\n",
       "      <th>0</th>\n",
       "      <td>15</td>\n",
       "    </tr>\n",
       "    <tr>\n",
       "      <th>1</th>\n",
       "      <td>16</td>\n",
       "    </tr>\n",
       "    <tr>\n",
       "      <th>2</th>\n",
       "      <td>17</td>\n",
       "    </tr>\n",
       "    <tr>\n",
       "      <th>3</th>\n",
       "      <td>18</td>\n",
       "    </tr>\n",
       "    <tr>\n",
       "      <th>4</th>\n",
       "      <td>19</td>\n",
       "    </tr>\n",
       "  </tbody>\n",
       "</table>\n",
       "</div>"
      ],
      "text/plain": [
       "       age\n",
       "id_age    \n",
       "0       15\n",
       "1       16\n",
       "2       17\n",
       "3       18\n",
       "4       19"
      ]
     },
     "execution_count": 20,
     "metadata": {},
     "output_type": "execute_result"
    }
   ],
   "source": [
    "ages.head()"
   ]
  },
  {
   "cell_type": "markdown",
   "metadata": {},
   "source": [
    "Add data to the births table\n"
   ]
  },
  {
   "cell_type": "code",
   "execution_count": 39,
   "metadata": {},
   "outputs": [
    {
     "data": {
      "text/html": [
       "<div>\n",
       "<style scoped>\n",
       "    .dataframe tbody tr th:only-of-type {\n",
       "        vertical-align: middle;\n",
       "    }\n",
       "\n",
       "    .dataframe tbody tr th {\n",
       "        vertical-align: top;\n",
       "    }\n",
       "\n",
       "    .dataframe thead th {\n",
       "        text-align: right;\n",
       "    }\n",
       "</style>\n",
       "<table border=\"1\" class=\"dataframe\">\n",
       "  <thead>\n",
       "    <tr style=\"text-align: right;\">\n",
       "      <th></th>\n",
       "      <th>kraj</th>\n",
       "      <th>rok</th>\n",
       "      <th>płeć</th>\n",
       "      <th>wiek</th>\n",
       "      <th>Indykator</th>\n",
       "      <th>wartość</th>\n",
       "      <th>kontynent</th>\n",
       "    </tr>\n",
       "  </thead>\n",
       "  <tbody>\n",
       "    <tr>\n",
       "      <th>0</th>\n",
       "      <td>Bangladesh</td>\n",
       "      <td>1950</td>\n",
       "      <td>Both sexes</td>\n",
       "      <td>15</td>\n",
       "      <td>Births by age of mother (1-year)</td>\n",
       "      <td>49740.0</td>\n",
       "      <td>Asia</td>\n",
       "    </tr>\n",
       "    <tr>\n",
       "      <th>1</th>\n",
       "      <td>Bangladesh</td>\n",
       "      <td>1950</td>\n",
       "      <td>Both sexes</td>\n",
       "      <td>16</td>\n",
       "      <td>Births by age of mother (1-year)</td>\n",
       "      <td>77560.0</td>\n",
       "      <td>Asia</td>\n",
       "    </tr>\n",
       "    <tr>\n",
       "      <th>2</th>\n",
       "      <td>Bangladesh</td>\n",
       "      <td>1950</td>\n",
       "      <td>Both sexes</td>\n",
       "      <td>17</td>\n",
       "      <td>Births by age of mother (1-year)</td>\n",
       "      <td>98709.0</td>\n",
       "      <td>Asia</td>\n",
       "    </tr>\n",
       "    <tr>\n",
       "      <th>3</th>\n",
       "      <td>Bangladesh</td>\n",
       "      <td>1950</td>\n",
       "      <td>Both sexes</td>\n",
       "      <td>18</td>\n",
       "      <td>Births by age of mother (1-year)</td>\n",
       "      <td>110663.0</td>\n",
       "      <td>Asia</td>\n",
       "    </tr>\n",
       "    <tr>\n",
       "      <th>4</th>\n",
       "      <td>Bangladesh</td>\n",
       "      <td>1950</td>\n",
       "      <td>Both sexes</td>\n",
       "      <td>19</td>\n",
       "      <td>Births by age of mother (1-year)</td>\n",
       "      <td>112789.0</td>\n",
       "      <td>Asia</td>\n",
       "    </tr>\n",
       "  </tbody>\n",
       "</table>\n",
       "</div>"
      ],
      "text/plain": [
       "         kraj   rok        płeć wiek                         Indykator  \\\n",
       "0  Bangladesh  1950  Both sexes   15  Births by age of mother (1-year)   \n",
       "1  Bangladesh  1950  Both sexes   16  Births by age of mother (1-year)   \n",
       "2  Bangladesh  1950  Both sexes   17  Births by age of mother (1-year)   \n",
       "3  Bangladesh  1950  Both sexes   18  Births by age of mother (1-year)   \n",
       "4  Bangladesh  1950  Both sexes   19  Births by age of mother (1-year)   \n",
       "\n",
       "    wartość kontynent  \n",
       "0   49740.0      Asia  \n",
       "1   77560.0      Asia  \n",
       "2   98709.0      Asia  \n",
       "3  110663.0      Asia  \n",
       "4  112789.0      Asia  "
      ]
     },
     "execution_count": 39,
     "metadata": {},
     "output_type": "execute_result"
    }
   ],
   "source": [
    "births_df = birth_death_df[birth_death_df[\"Indykator\"] == \"Births by age of mother (1-year)\"]\n",
    "births_df.head()"
   ]
  },
  {
   "cell_type": "code",
   "execution_count": null,
   "metadata": {},
   "outputs": [],
   "source": [
    "new_rows = []\n",
    "for _, row in births_df.iterrows():\n",
    "    id_country = countries[countries[\"country\"] == row[\"kraj\"]].index[0]\n",
    "    id_year = years[years[\"year\"] == row[\"rok\"]].index[0]\n",
    "    id_mother_age = ages[ages[\"age\"] == row[\"wiek\"]].index[0]\n",
    "    measurment = row[\"wartość\"]\n",
    "\n",
    "    new_rows.append({\n",
    "        \"measurement\": measurment,\n",
    "        \"id_year\": id_year,\n",
    "        \"id_country\": id_country,\n",
    "        \"id_mother_age\": id_mother_age\n",
    "    })\n",
    "\n",
    "births = pd.concat([pd.DataFrame(new_rows)], ignore_index=True)\n"
   ]
  },
  {
   "cell_type": "code",
   "execution_count": 57,
   "metadata": {},
   "outputs": [
    {
     "data": {
      "text/html": [
       "<div>\n",
       "<style scoped>\n",
       "    .dataframe tbody tr th:only-of-type {\n",
       "        vertical-align: middle;\n",
       "    }\n",
       "\n",
       "    .dataframe tbody tr th {\n",
       "        vertical-align: top;\n",
       "    }\n",
       "\n",
       "    .dataframe thead th {\n",
       "        text-align: right;\n",
       "    }\n",
       "</style>\n",
       "<table border=\"1\" class=\"dataframe\">\n",
       "  <thead>\n",
       "    <tr style=\"text-align: right;\">\n",
       "      <th></th>\n",
       "      <th>measurement</th>\n",
       "      <th>id_year</th>\n",
       "      <th>id_country</th>\n",
       "      <th>id_mother_age</th>\n",
       "    </tr>\n",
       "    <tr>\n",
       "      <th>id_data</th>\n",
       "      <th></th>\n",
       "      <th></th>\n",
       "      <th></th>\n",
       "      <th></th>\n",
       "    </tr>\n",
       "  </thead>\n",
       "  <tbody>\n",
       "    <tr>\n",
       "      <th>0</th>\n",
       "      <td>49740.0</td>\n",
       "      <td>55</td>\n",
       "      <td>0</td>\n",
       "      <td>0</td>\n",
       "    </tr>\n",
       "    <tr>\n",
       "      <th>1</th>\n",
       "      <td>77560.0</td>\n",
       "      <td>55</td>\n",
       "      <td>0</td>\n",
       "      <td>1</td>\n",
       "    </tr>\n",
       "    <tr>\n",
       "      <th>2</th>\n",
       "      <td>98709.0</td>\n",
       "      <td>55</td>\n",
       "      <td>0</td>\n",
       "      <td>2</td>\n",
       "    </tr>\n",
       "    <tr>\n",
       "      <th>3</th>\n",
       "      <td>110663.0</td>\n",
       "      <td>55</td>\n",
       "      <td>0</td>\n",
       "      <td>3</td>\n",
       "    </tr>\n",
       "    <tr>\n",
       "      <th>4</th>\n",
       "      <td>112789.0</td>\n",
       "      <td>55</td>\n",
       "      <td>0</td>\n",
       "      <td>4</td>\n",
       "    </tr>\n",
       "  </tbody>\n",
       "</table>\n",
       "</div>"
      ],
      "text/plain": [
       "         measurement  id_year  id_country  id_mother_age\n",
       "id_data                                                 \n",
       "0            49740.0       55           0              0\n",
       "1            77560.0       55           0              1\n",
       "2            98709.0       55           0              2\n",
       "3           110663.0       55           0              3\n",
       "4           112789.0       55           0              4"
      ]
     },
     "execution_count": 57,
     "metadata": {},
     "output_type": "execute_result"
    }
   ],
   "source": [
    "births.head()"
   ]
  },
  {
   "cell_type": "code",
   "execution_count": 56,
   "metadata": {},
   "outputs": [
    {
     "data": {
      "text/plain": [
       "52500"
      ]
     },
     "execution_count": 56,
     "metadata": {},
     "output_type": "execute_result"
    }
   ],
   "source": [
    "births.index.name = 'id_data'\n",
    "births.to_sql('births', engine, if_exists = \"append\")"
   ]
  },
  {
   "cell_type": "markdown",
   "metadata": {},
   "source": [
    "Add data to the deaths table\n"
   ]
  },
  {
   "cell_type": "code",
   "execution_count": 58,
   "metadata": {},
   "outputs": [
    {
     "data": {
      "text/html": [
       "<div>\n",
       "<style scoped>\n",
       "    .dataframe tbody tr th:only-of-type {\n",
       "        vertical-align: middle;\n",
       "    }\n",
       "\n",
       "    .dataframe tbody tr th {\n",
       "        vertical-align: top;\n",
       "    }\n",
       "\n",
       "    .dataframe thead th {\n",
       "        text-align: right;\n",
       "    }\n",
       "</style>\n",
       "<table border=\"1\" class=\"dataframe\">\n",
       "  <thead>\n",
       "    <tr style=\"text-align: right;\">\n",
       "      <th></th>\n",
       "      <th>kraj</th>\n",
       "      <th>rok</th>\n",
       "      <th>płeć</th>\n",
       "      <th>wiek</th>\n",
       "      <th>Indykator</th>\n",
       "      <th>wartość</th>\n",
       "      <th>kontynent</th>\n",
       "    </tr>\n",
       "  </thead>\n",
       "  <tbody>\n",
       "    <tr>\n",
       "      <th>52500</th>\n",
       "      <td>Bangladesh</td>\n",
       "      <td>1950</td>\n",
       "      <td>Male</td>\n",
       "      <td>0</td>\n",
       "      <td>Deaths by 1-year age groups and sex</td>\n",
       "      <td>208502.0</td>\n",
       "      <td>Asia</td>\n",
       "    </tr>\n",
       "    <tr>\n",
       "      <th>52501</th>\n",
       "      <td>Bangladesh</td>\n",
       "      <td>1950</td>\n",
       "      <td>Female</td>\n",
       "      <td>0</td>\n",
       "      <td>Deaths by 1-year age groups and sex</td>\n",
       "      <td>191179.0</td>\n",
       "      <td>Asia</td>\n",
       "    </tr>\n",
       "    <tr>\n",
       "      <th>52502</th>\n",
       "      <td>Bangladesh</td>\n",
       "      <td>1950</td>\n",
       "      <td>Both sexes</td>\n",
       "      <td>0</td>\n",
       "      <td>Deaths by 1-year age groups and sex</td>\n",
       "      <td>399681.0</td>\n",
       "      <td>Asia</td>\n",
       "    </tr>\n",
       "    <tr>\n",
       "      <th>52503</th>\n",
       "      <td>Bangladesh</td>\n",
       "      <td>1950</td>\n",
       "      <td>Male</td>\n",
       "      <td>1</td>\n",
       "      <td>Deaths by 1-year age groups and sex</td>\n",
       "      <td>54845.0</td>\n",
       "      <td>Asia</td>\n",
       "    </tr>\n",
       "    <tr>\n",
       "      <th>52504</th>\n",
       "      <td>Bangladesh</td>\n",
       "      <td>1950</td>\n",
       "      <td>Female</td>\n",
       "      <td>1</td>\n",
       "      <td>Deaths by 1-year age groups and sex</td>\n",
       "      <td>45039.0</td>\n",
       "      <td>Asia</td>\n",
       "    </tr>\n",
       "  </tbody>\n",
       "</table>\n",
       "</div>"
      ],
      "text/plain": [
       "             kraj   rok        płeć wiek                            Indykator  \\\n",
       "52500  Bangladesh  1950        Male    0  Deaths by 1-year age groups and sex   \n",
       "52501  Bangladesh  1950      Female    0  Deaths by 1-year age groups and sex   \n",
       "52502  Bangladesh  1950  Both sexes    0  Deaths by 1-year age groups and sex   \n",
       "52503  Bangladesh  1950        Male    1  Deaths by 1-year age groups and sex   \n",
       "52504  Bangladesh  1950      Female    1  Deaths by 1-year age groups and sex   \n",
       "\n",
       "        wartość kontynent  \n",
       "52500  208502.0      Asia  \n",
       "52501  191179.0      Asia  \n",
       "52502  399681.0      Asia  \n",
       "52503   54845.0      Asia  \n",
       "52504   45039.0      Asia  "
      ]
     },
     "execution_count": 58,
     "metadata": {},
     "output_type": "execute_result"
    }
   ],
   "source": [
    "death_df = birth_death_df[birth_death_df[\"Indykator\"] == \"Deaths by 1-year age groups and sex\"]\n",
    "death_df.head()"
   ]
  },
  {
   "cell_type": "code",
   "execution_count": 63,
   "metadata": {},
   "outputs": [],
   "source": [
    "new_rows_deaths = []\n",
    "for _, row in death_df.iterrows():\n",
    "    id_country = countries[countries[\"country\"] == row[\"kraj\"]].index[0]\n",
    "    id_year = years[years[\"year\"] == row[\"rok\"]].index[0]\n",
    "    id_age = ages[ages[\"age\"] == row[\"wiek\"]].index[0]\n",
    "    measurment = row[\"wartość\"]\n",
    "    sex = row[\"płeć\"]\n",
    "\n",
    "    new_rows_deaths.append({\n",
    "        \"measurement\": measurment,\n",
    "        \"sex\": sex,\n",
    "        \"id_year\": id_year,\n",
    "        \"id_country\": id_country,\n",
    "        \"id_age\": id_age\n",
    "    })\n",
    "\n",
    "deaths = pd.concat([pd.DataFrame(new_rows_deaths)], ignore_index=True)"
   ]
  },
  {
   "cell_type": "code",
   "execution_count": 65,
   "metadata": {},
   "outputs": [
    {
     "data": {
      "text/html": [
       "<div>\n",
       "<style scoped>\n",
       "    .dataframe tbody tr th:only-of-type {\n",
       "        vertical-align: middle;\n",
       "    }\n",
       "\n",
       "    .dataframe tbody tr th {\n",
       "        vertical-align: top;\n",
       "    }\n",
       "\n",
       "    .dataframe thead th {\n",
       "        text-align: right;\n",
       "    }\n",
       "</style>\n",
       "<table border=\"1\" class=\"dataframe\">\n",
       "  <thead>\n",
       "    <tr style=\"text-align: right;\">\n",
       "      <th></th>\n",
       "      <th>measurement</th>\n",
       "      <th>sex</th>\n",
       "      <th>id_year</th>\n",
       "      <th>id_country</th>\n",
       "      <th>id_age</th>\n",
       "    </tr>\n",
       "  </thead>\n",
       "  <tbody>\n",
       "    <tr>\n",
       "      <th>0</th>\n",
       "      <td>208502.0</td>\n",
       "      <td>Male</td>\n",
       "      <td>55</td>\n",
       "      <td>0</td>\n",
       "      <td>35</td>\n",
       "    </tr>\n",
       "    <tr>\n",
       "      <th>1</th>\n",
       "      <td>191179.0</td>\n",
       "      <td>Female</td>\n",
       "      <td>55</td>\n",
       "      <td>0</td>\n",
       "      <td>35</td>\n",
       "    </tr>\n",
       "    <tr>\n",
       "      <th>2</th>\n",
       "      <td>399681.0</td>\n",
       "      <td>Both sexes</td>\n",
       "      <td>55</td>\n",
       "      <td>0</td>\n",
       "      <td>35</td>\n",
       "    </tr>\n",
       "    <tr>\n",
       "      <th>3</th>\n",
       "      <td>54845.0</td>\n",
       "      <td>Male</td>\n",
       "      <td>55</td>\n",
       "      <td>0</td>\n",
       "      <td>36</td>\n",
       "    </tr>\n",
       "    <tr>\n",
       "      <th>4</th>\n",
       "      <td>45039.0</td>\n",
       "      <td>Female</td>\n",
       "      <td>55</td>\n",
       "      <td>0</td>\n",
       "      <td>36</td>\n",
       "    </tr>\n",
       "  </tbody>\n",
       "</table>\n",
       "</div>"
      ],
      "text/plain": [
       "   measurement         sex  id_year  id_country  id_age\n",
       "0     208502.0        Male       55           0      35\n",
       "1     191179.0      Female       55           0      35\n",
       "2     399681.0  Both sexes       55           0      35\n",
       "3      54845.0        Male       55           0      36\n",
       "4      45039.0      Female       55           0      36"
      ]
     },
     "execution_count": 65,
     "metadata": {},
     "output_type": "execute_result"
    }
   ],
   "source": [
    "deaths.head()"
   ]
  },
  {
   "cell_type": "code",
   "execution_count": 66,
   "metadata": {},
   "outputs": [
    {
     "data": {
      "text/plain": [
       "454500"
      ]
     },
     "execution_count": 66,
     "metadata": {},
     "output_type": "execute_result"
    }
   ],
   "source": [
    "deaths.index.name = 'id_data'\n",
    "deaths.to_sql('deaths', engine, if_exists = \"append\")"
   ]
  },
  {
   "cell_type": "markdown",
   "metadata": {},
   "source": [
    "Add data to the marriage table\n"
   ]
  },
  {
   "cell_type": "code",
   "execution_count": 67,
   "metadata": {},
   "outputs": [
    {
     "data": {
      "text/html": [
       "<div>\n",
       "<style scoped>\n",
       "    .dataframe tbody tr th:only-of-type {\n",
       "        vertical-align: middle;\n",
       "    }\n",
       "\n",
       "    .dataframe tbody tr th {\n",
       "        vertical-align: top;\n",
       "    }\n",
       "\n",
       "    .dataframe thead th {\n",
       "        text-align: right;\n",
       "    }\n",
       "</style>\n",
       "<table border=\"1\" class=\"dataframe\">\n",
       "  <thead>\n",
       "    <tr style=\"text-align: right;\">\n",
       "      <th></th>\n",
       "      <th>kraj</th>\n",
       "      <th>rok</th>\n",
       "      <th>płeć</th>\n",
       "      <th>wiek</th>\n",
       "      <th>IndicatorName</th>\n",
       "      <th>wartość</th>\n",
       "      <th>kontynent</th>\n",
       "    </tr>\n",
       "  </thead>\n",
       "  <tbody>\n",
       "    <tr>\n",
       "      <th>0</th>\n",
       "      <td>Bangladesh</td>\n",
       "      <td>1970</td>\n",
       "      <td>Female</td>\n",
       "      <td>15</td>\n",
       "      <td>Currently married by age of woman (Number)</td>\n",
       "      <td>446515.2</td>\n",
       "      <td>Asia</td>\n",
       "    </tr>\n",
       "    <tr>\n",
       "      <th>1</th>\n",
       "      <td>Bangladesh</td>\n",
       "      <td>1970</td>\n",
       "      <td>Female</td>\n",
       "      <td>16</td>\n",
       "      <td>Currently married by age of woman (Number)</td>\n",
       "      <td>446515.2</td>\n",
       "      <td>Asia</td>\n",
       "    </tr>\n",
       "    <tr>\n",
       "      <th>2</th>\n",
       "      <td>Bangladesh</td>\n",
       "      <td>1970</td>\n",
       "      <td>Female</td>\n",
       "      <td>17</td>\n",
       "      <td>Currently married by age of woman (Number)</td>\n",
       "      <td>446515.2</td>\n",
       "      <td>Asia</td>\n",
       "    </tr>\n",
       "    <tr>\n",
       "      <th>3</th>\n",
       "      <td>Bangladesh</td>\n",
       "      <td>1970</td>\n",
       "      <td>Female</td>\n",
       "      <td>18</td>\n",
       "      <td>Currently married by age of woman (Number)</td>\n",
       "      <td>446515.2</td>\n",
       "      <td>Asia</td>\n",
       "    </tr>\n",
       "    <tr>\n",
       "      <th>4</th>\n",
       "      <td>Bangladesh</td>\n",
       "      <td>1970</td>\n",
       "      <td>Female</td>\n",
       "      <td>19</td>\n",
       "      <td>Currently married by age of woman (Number)</td>\n",
       "      <td>446515.2</td>\n",
       "      <td>Asia</td>\n",
       "    </tr>\n",
       "  </tbody>\n",
       "</table>\n",
       "</div>"
      ],
      "text/plain": [
       "         kraj   rok    płeć  wiek                               IndicatorName  \\\n",
       "0  Bangladesh  1970  Female    15  Currently married by age of woman (Number)   \n",
       "1  Bangladesh  1970  Female    16  Currently married by age of woman (Number)   \n",
       "2  Bangladesh  1970  Female    17  Currently married by age of woman (Number)   \n",
       "3  Bangladesh  1970  Female    18  Currently married by age of woman (Number)   \n",
       "4  Bangladesh  1970  Female    19  Currently married by age of woman (Number)   \n",
       "\n",
       "    wartość kontynent  \n",
       "0  446515.2      Asia  \n",
       "1  446515.2      Asia  \n",
       "2  446515.2      Asia  \n",
       "3  446515.2      Asia  \n",
       "4  446515.2      Asia  "
      ]
     },
     "execution_count": 67,
     "metadata": {},
     "output_type": "execute_result"
    }
   ],
   "source": [
    "married_df.head()"
   ]
  },
  {
   "cell_type": "code",
   "execution_count": 80,
   "metadata": {},
   "outputs": [],
   "source": [
    "new_rows_marriages = []\n",
    "for _, row in married_df.iterrows():\n",
    "    id_country = countries[countries[\"country\"] == row[\"kraj\"]].index[0]\n",
    "    id_year = years[years[\"year\"] == row[\"rok\"]].index[0]\n",
    "    id_age = ages[ages[\"age\"] == str(row[\"wiek\"])].index[0]\n",
    "    measurment = row[\"wartość\"]\n",
    "\n",
    "    new_rows_marriages.append({\n",
    "        \"measurement\": measurment,\n",
    "        \"id_year\": id_year,\n",
    "        \"id_age\": id_age,\n",
    "        \"id_country\": id_country\n",
    "\n",
    "    })\n",
    "\n",
    "marriages = pd.concat([pd.DataFrame(new_rows_marriages)], ignore_index=True)"
   ]
  },
  {
   "cell_type": "code",
   "execution_count": 81,
   "metadata": {},
   "outputs": [
    {
     "data": {
      "text/html": [
       "<div>\n",
       "<style scoped>\n",
       "    .dataframe tbody tr th:only-of-type {\n",
       "        vertical-align: middle;\n",
       "    }\n",
       "\n",
       "    .dataframe tbody tr th {\n",
       "        vertical-align: top;\n",
       "    }\n",
       "\n",
       "    .dataframe thead th {\n",
       "        text-align: right;\n",
       "    }\n",
       "</style>\n",
       "<table border=\"1\" class=\"dataframe\">\n",
       "  <thead>\n",
       "    <tr style=\"text-align: right;\">\n",
       "      <th></th>\n",
       "      <th>measurement</th>\n",
       "      <th>id_year</th>\n",
       "      <th>id_age</th>\n",
       "      <th>id_country</th>\n",
       "    </tr>\n",
       "  </thead>\n",
       "  <tbody>\n",
       "    <tr>\n",
       "      <th>0</th>\n",
       "      <td>446515.2</td>\n",
       "      <td>0</td>\n",
       "      <td>0</td>\n",
       "      <td>0</td>\n",
       "    </tr>\n",
       "    <tr>\n",
       "      <th>1</th>\n",
       "      <td>446515.2</td>\n",
       "      <td>0</td>\n",
       "      <td>1</td>\n",
       "      <td>0</td>\n",
       "    </tr>\n",
       "    <tr>\n",
       "      <th>2</th>\n",
       "      <td>446515.2</td>\n",
       "      <td>0</td>\n",
       "      <td>2</td>\n",
       "      <td>0</td>\n",
       "    </tr>\n",
       "    <tr>\n",
       "      <th>3</th>\n",
       "      <td>446515.2</td>\n",
       "      <td>0</td>\n",
       "      <td>3</td>\n",
       "      <td>0</td>\n",
       "    </tr>\n",
       "    <tr>\n",
       "      <th>4</th>\n",
       "      <td>446515.2</td>\n",
       "      <td>0</td>\n",
       "      <td>4</td>\n",
       "      <td>0</td>\n",
       "    </tr>\n",
       "  </tbody>\n",
       "</table>\n",
       "</div>"
      ],
      "text/plain": [
       "   measurement  id_year  id_age  id_country\n",
       "0     446515.2        0       0           0\n",
       "1     446515.2        0       1           0\n",
       "2     446515.2        0       2           0\n",
       "3     446515.2        0       3           0\n",
       "4     446515.2        0       4           0"
      ]
     },
     "execution_count": 81,
     "metadata": {},
     "output_type": "execute_result"
    }
   ],
   "source": [
    "marriages.head()"
   ]
  },
  {
   "cell_type": "code",
   "execution_count": 84,
   "metadata": {},
   "outputs": [
    {
     "data": {
      "text/plain": [
       "38500"
      ]
     },
     "execution_count": 84,
     "metadata": {},
     "output_type": "execute_result"
    }
   ],
   "source": [
    "marriages.index.name = 'id_data'\n",
    "marriages.to_sql('marriages', engine, if_exists = \"append\")"
   ]
  }
 ],
 "metadata": {
  "kernelspec": {
   "display_name": "base",
   "language": "python",
   "name": "python3"
  },
  "language_info": {
   "codemirror_mode": {
    "name": "ipython",
    "version": 3
   },
   "file_extension": ".py",
   "mimetype": "text/x-python",
   "name": "python",
   "nbconvert_exporter": "python",
   "pygments_lexer": "ipython3",
   "version": "3.10.8"
  }
 },
 "nbformat": 4,
 "nbformat_minor": 2
}
